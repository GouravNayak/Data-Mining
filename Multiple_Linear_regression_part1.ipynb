{
  "nbformat": 4,
  "nbformat_minor": 0,
  "metadata": {
    "colab": {
      "name": "Multiple_Linear_regression_part1.ipynb",
      "provenance": [],
      "collapsed_sections": [],
      "authorship_tag": "ABX9TyOC7xBz6QNQG44TXLO5QT9p",
      "include_colab_link": true
    },
    "kernelspec": {
      "name": "python3",
      "display_name": "Python 3"
    }
  },
  "cells": [
    {
      "cell_type": "markdown",
      "metadata": {
        "id": "view-in-github",
        "colab_type": "text"
      },
      "source": [
        "<a href=\"https://colab.research.google.com/github/GouravNayak/Data-Mining/blob/master/Multiple_Linear_regression_part1.ipynb\" target=\"_parent\"><img src=\"https://colab.research.google.com/assets/colab-badge.svg\" alt=\"Open In Colab\"/></a>"
      ]
    },
    {
      "cell_type": "markdown",
      "metadata": {
        "id": "XA8YkhmDqRoB",
        "colab_type": "text"
      },
      "source": [
        "**Import necessary libraries**"
      ]
    },
    {
      "cell_type": "code",
      "metadata": {
        "id": "P5TrBVyYqJTU",
        "colab_type": "code",
        "colab": {}
      },
      "source": [
        "import numpy as np"
      ],
      "execution_count": null,
      "outputs": []
    },
    {
      "cell_type": "markdown",
      "metadata": {
        "id": "lFroXB1hqjdR",
        "colab_type": "text"
      },
      "source": [
        "**import the data**"
      ]
    },
    {
      "cell_type": "code",
      "metadata": {
        "id": "qBCAZmZLqpTh",
        "colab_type": "code",
        "colab": {
          "base_uri": "https://localhost:8080/",
          "height": 50
        },
        "outputId": "10627a70-1efb-469c-c6fb-2b711f081fdf"
      },
      "source": [
        "train_feature_X = np.array([[3,8],[4,5],[5,7],[6,3],[2,1]])\n",
        "train_label_Y = np.array([[-3.7],[-3.5],[2.5],[11.5],[5.7]])\n",
        "print(train_feature_X.shape)\n",
        "print(train_label_Y.shape)"
      ],
      "execution_count": null,
      "outputs": [
        {
          "output_type": "stream",
          "text": [
            "(5, 2)\n",
            "(5, 1)\n"
          ],
          "name": "stdout"
        }
      ]
    },
    {
      "cell_type": "markdown",
      "metadata": {
        "id": "lICKG-8lJpRs",
        "colab_type": "text"
      },
      "source": [
        "**Transform the feature matrix**"
      ]
    },
    {
      "cell_type": "code",
      "metadata": {
        "id": "vryRZAnAJuM_",
        "colab_type": "code",
        "colab": {
          "base_uri": "https://localhost:8080/",
          "height": 34
        },
        "outputId": "3a2f406f-92a4-45c2-ec27-ac86e677048a"
      },
      "source": [
        "X = np.ones(shape=(train_feature_X.shape[0],1))\n",
        "transform_feature_X = np.hstack((X,train_feature_X))\n",
        "print(transform_feature_X.shape)"
      ],
      "execution_count": null,
      "outputs": [
        {
          "output_type": "stream",
          "text": [
            "(5, 3)\n"
          ],
          "name": "stdout"
        }
      ]
    },
    {
      "cell_type": "markdown",
      "metadata": {
        "id": "qIP4R8AwNQSq",
        "colab_type": "text"
      },
      "source": [
        "**Find Transpose of feature matrix**"
      ]
    },
    {
      "cell_type": "code",
      "metadata": {
        "id": "CQFht8yoNXlD",
        "colab_type": "code",
        "colab": {
          "base_uri": "https://localhost:8080/",
          "height": 34
        },
        "outputId": "19b1c0d5-bc6e-4b7a-f44a-e687b995dce5"
      },
      "source": [
        "transpose_feature_X = np.transpose(transform_feature_X, axes=None)\n",
        "print(transpose_feature_X.shape)"
      ],
      "execution_count": null,
      "outputs": [
        {
          "output_type": "stream",
          "text": [
            "(3, 5)\n"
          ],
          "name": "stdout"
        }
      ]
    },
    {
      "cell_type": "markdown",
      "metadata": {
        "id": "4tMbjlmqNK0k",
        "colab_type": "text"
      },
      "source": [
        "**Multiply Transpose of Feature Matrix with Original Feature Matrix**"
      ]
    },
    {
      "cell_type": "code",
      "metadata": {
        "id": "D4V4IZHOOwfc",
        "colab_type": "code",
        "colab": {
          "base_uri": "https://localhost:8080/",
          "height": 67
        },
        "outputId": "731dbca1-e78f-4ddb-bd49-dc213c270268"
      },
      "source": [
        "product_transpose_with_X = np.dot(transpose_feature_X, transform_feature_X)\n",
        "print(product_transpose_with_X)"
      ],
      "execution_count": null,
      "outputs": [
        {
          "output_type": "stream",
          "text": [
            "[[  5.  20.  24.]\n",
            " [ 20.  90.  99.]\n",
            " [ 24.  99. 148.]]\n"
          ],
          "name": "stdout"
        }
      ]
    },
    {
      "cell_type": "markdown",
      "metadata": {
        "id": "h9O5xU5IrQek",
        "colab_type": "text"
      },
      "source": [
        "**Find inverse of resultant matrix**"
      ]
    },
    {
      "cell_type": "code",
      "metadata": {
        "id": "P8hdcrNLR1Sp",
        "colab_type": "code",
        "colab": {
          "base_uri": "https://localhost:8080/",
          "height": 67
        },
        "outputId": "f04dcdb1-01e0-4732-f373-47db264475b5"
      },
      "source": [
        "resultant_product_transpose_matrix = np.linalg.inv(product_transpose_with_X)\n",
        "print(resultant_product_transpose_matrix)"
      ],
      "execution_count": null,
      "outputs": [
        {
          "output_type": "stream",
          "text": [
            "[[ 2.20626959 -0.3661442  -0.11285266]\n",
            " [-0.3661442   0.10282132 -0.00940439]\n",
            " [-0.11285266 -0.00940439  0.03134796]]\n"
          ],
          "name": "stdout"
        }
      ]
    },
    {
      "cell_type": "markdown",
      "metadata": {
        "id": "aBSpXmNXTb-D",
        "colab_type": "text"
      },
      "source": [
        "**Product of Transpose of feature matrix and  dependent variable**"
      ]
    },
    {
      "cell_type": "code",
      "metadata": {
        "id": "G9KS2ozSTen6",
        "colab_type": "code",
        "colab": {
          "base_uri": "https://localhost:8080/",
          "height": 67
        },
        "outputId": "8ee48d63-a243-471e-a58b-1f46f4d78a2a"
      },
      "source": [
        "product_feature_with_Y = np.dot(transpose_feature_X, train_label_Y)\n",
        "print(product_feature_with_Y)"
      ],
      "execution_count": null,
      "outputs": [
        {
          "output_type": "stream",
          "text": [
            "[[12.5]\n",
            " [67.8]\n",
            " [10.6]]\n"
          ],
          "name": "stdout"
        }
      ]
    },
    {
      "cell_type": "markdown",
      "metadata": {
        "id": "kgZOkePaUrtq",
        "colab_type": "text"
      },
      "source": [
        "**Find Regression Coefficent**"
      ]
    },
    {
      "cell_type": "code",
      "metadata": {
        "id": "PU3XW3HyUt0z",
        "colab_type": "code",
        "colab": {
          "base_uri": "https://localhost:8080/",
          "height": 67
        },
        "outputId": "21c855c1-276e-4e39-bb5d-d392b1d1ac7d"
      },
      "source": [
        "regression_coefficent = np.dot(resultant_product_transpose_matrix, product_feature_with_Y)\n",
        "print(regression_coefficent)"
      ],
      "execution_count": null,
      "outputs": [
        {
          "output_type": "stream",
          "text": [
            "[[ 1.55755486]\n",
            " [ 2.29479624]\n",
            " [-1.71598746]]\n"
          ],
          "name": "stdout"
        }
      ]
    },
    {
      "cell_type": "markdown",
      "metadata": {
        "id": "Mh32krUMVZuA",
        "colab_type": "text"
      },
      "source": [
        "**Prediction**"
      ]
    },
    {
      "cell_type": "code",
      "metadata": {
        "id": "6CP451zWVcJy",
        "colab_type": "code",
        "colab": {
          "base_uri": "https://localhost:8080/",
          "height": 34
        },
        "outputId": "cc12eb80-e3f8-4107-e238-7538c400f324"
      },
      "source": [
        "def predict_label(X_test):\n",
        "  y_test = regression_coefficent[0] + (regression_coefficent[1]*X_test[0]) + (regression_coefficent[2]*X_test[1])\n",
        "  return y_test\n",
        "\n",
        "print(predict_label([3,8]))"
      ],
      "execution_count": null,
      "outputs": [
        {
          "output_type": "stream",
          "text": [
            "[-5.28595611]\n"
          ],
          "name": "stdout"
        }
      ]
    },
    {
      "cell_type": "markdown",
      "metadata": {
        "id": "56Jtmx3VXjyo",
        "colab_type": "text"
      },
      "source": [
        "**Plotting**"
      ]
    },
    {
      "cell_type": "code",
      "metadata": {
        "id": "ESpIXOqGXmlR",
        "colab_type": "code",
        "colab": {
          "base_uri": "https://localhost:8080/",
          "height": 248
        },
        "outputId": "aa11a2cb-6b5a-4f49-ccc4-62a47be82fb5"
      },
      "source": [
        "import matplotlib.pyplot as plt\n",
        "\n",
        "ax = plt.axes(projection='3d')\n",
        "\n",
        "# Data for a three-dimensional line\n",
        "zline = np.linspace(0, 12, 1)\n",
        "xline = np.linspace(0, 7, 1)\n",
        "yline = np.linspace(0, 8, 1)\n",
        "ax.plot3D(xline, yline, zline, 'gray')\n",
        "\n",
        "# Data for three-dimensional scattered points\n",
        "x1data = [3,4,5,6,2]\n",
        "ydata = [8,5,7,3,1]\n",
        "zdata = [predict_label([x1data[0],ydata[0]]),predict_label([x1data[1],ydata[1]]),\n",
        "         predict_label([x1data[2],ydata[2]]),predict_label([x1data[3],ydata[3]]),\n",
        "         predict_label([x1data[4],ydata[4]])]\n",
        "\n",
        "ax.scatter3D(x1data, ydata, zdata, c=zdata, cmap='Greens');"
      ],
      "execution_count": null,
      "outputs": [
        {
          "output_type": "display_data",
          "data": {
            "image/png": "[encoded data removed]",
            "text/plain": [
              "<Figure size 432x288 with 1 Axes>"
            ]
          },
          "metadata": {
            "tags": [],
            "needs_background": "light"
          }
        }
      ]
    }
  ]
}