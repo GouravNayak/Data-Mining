{
  "nbformat": 4,
  "nbformat_minor": 0,
  "metadata": {
    "colab": {
      "name": "SimpleLinearRegression_Part1.ipynb",
      "provenance": [],
      "collapsed_sections": [],
      "authorship_tag": "ABX9TyNnPelZMa9gTBSC7//t+XZd",
      "include_colab_link": true
    },
    "kernelspec": {
      "name": "python3",
      "display_name": "Python 3"
    }
  },
  "cells": [
    {
      "cell_type": "markdown",
      "metadata": {
        "id": "view-in-github",
        "colab_type": "text"
      },
      "source": [
        "<a href=\"https://colab.research.google.com/github/GouravNayak/Data-Mining/blob/master/SimpleLinearRegression_Part1.ipynb\" target=\"_parent\"><img src=\"https://colab.research.google.com/assets/colab-badge.svg\" alt=\"Open In Colab\"/></a>"
      ]
    },
    {
      "cell_type": "markdown",
      "metadata": {
        "id": "rD6s1N3YcwUv",
        "colab_type": "text"
      },
      "source": [
        "**Import Necessary Libraries**"
      ]
    },
    {
      "cell_type": "code",
      "metadata": {
        "id": "Fk-O7CX3cgw7",
        "colab_type": "code",
        "colab": {}
      },
      "source": [
        "import numpy as np"
      ],
      "execution_count": 2,
      "outputs": []
    },
    {
      "cell_type": "markdown",
      "metadata": {
        "id": "aEKVtt8JcooM",
        "colab_type": "text"
      },
      "source": [
        "**Create example matrix**"
      ]
    },
    {
      "cell_type": "code",
      "metadata": {
        "id": "0Mxes8UudeY3",
        "colab_type": "code",
        "colab": {
          "base_uri": "https://localhost:8080/",
          "height": 34
        },
        "outputId": "1694de13-5329-4f87-cb3a-5105e0d34114"
      },
      "source": [
        "train_data = np.array([[5,10],[15,30],[45,90],[22,48],[36,80]], np.int32)\n",
        "print(train_data.shape)"
      ],
      "execution_count": 4,
      "outputs": [
        {
          "output_type": "stream",
          "text": [
            "(5, 2)\n"
          ],
          "name": "stdout"
        }
      ]
    },
    {
      "cell_type": "markdown",
      "metadata": {
        "id": "bVaMEXSLfw3s",
        "colab_type": "text"
      },
      "source": [
        "**Calculate Slope of predicted line**"
      ]
    },
    {
      "cell_type": "code",
      "metadata": {
        "id": "-HnwClC4d_zH",
        "colab_type": "code",
        "colab": {
          "base_uri": "https://localhost:8080/",
          "height": 34
        },
        "outputId": "fc1decf8-75b4-4849-8a48-4bd4816a4226"
      },
      "source": [
        "#Calculate mean of independent variable\n",
        "sum_x = 0\n",
        "for row in train_data:\n",
        "  sum_x = row[0]+sum_x\n",
        "\n",
        "mean_x = sum_x/train_data.shape[0]\n",
        "print(mean_x)"
      ],
      "execution_count": 5,
      "outputs": [
        {
          "output_type": "stream",
          "text": [
            "24.6\n"
          ],
          "name": "stdout"
        }
      ]
    },
    {
      "cell_type": "code",
      "metadata": {
        "id": "jrnf3RgVgsWf",
        "colab_type": "code",
        "colab": {
          "base_uri": "https://localhost:8080/",
          "height": 34
        },
        "outputId": "7ae364b1-ba93-42d5-83b4-eef9feb1c529"
      },
      "source": [
        "#Calculate mean of dependent variable\n",
        "sum_y = 0\n",
        "for row in train_data:\n",
        "  sum_y = row[1]+sum_y\n",
        "\n",
        "mean_y = sum_y/train_data.shape[0]\n",
        "print(mean_y)"
      ],
      "execution_count": 6,
      "outputs": [
        {
          "output_type": "stream",
          "text": [
            "51.6\n"
          ],
          "name": "stdout"
        }
      ]
    },
    {
      "cell_type": "code",
      "metadata": {
        "id": "wellsr6Lg6fu",
        "colab_type": "code",
        "colab": {
          "base_uri": "https://localhost:8080/",
          "height": 34
        },
        "outputId": "1a675d36-4647-4bf0-dc46-c5aca709d026"
      },
      "source": [
        "#Calculate sum of product of dependent and independent variables\n",
        "sum_xy = 0\n",
        "for row in train_data:\n",
        "  sum_xy = (row[0]*row[1])+sum_xy\n",
        "\n",
        "print(sum_xy)"
      ],
      "execution_count": 8,
      "outputs": [
        {
          "output_type": "stream",
          "text": [
            "8486\n"
          ],
          "name": "stdout"
        }
      ]
    },
    {
      "cell_type": "code",
      "metadata": {
        "id": "523radKkhcTn",
        "colab_type": "code",
        "colab": {
          "base_uri": "https://localhost:8080/",
          "height": 34
        },
        "outputId": "821536d4-b886-42c2-d67f-596eb92b7c1e"
      },
      "source": [
        "#Calculate sum of square of independent variables\n",
        "sum_square_x = 0\n",
        "for row in train_data:\n",
        "  sum_square_x = (row[0]*row[0])+sum_square_x\n",
        "\n",
        "print(sum_square_x)"
      ],
      "execution_count": 9,
      "outputs": [
        {
          "output_type": "stream",
          "text": [
            "4055\n"
          ],
          "name": "stdout"
        }
      ]
    },
    {
      "cell_type": "markdown",
      "metadata": {
        "id": "5OhbpSrKhy10",
        "colab_type": "text"
      },
      "source": [
        "**`Calculate coefficents`**"
      ]
    },
    {
      "cell_type": "markdown",
      "metadata": {
        "id": "LTBflU-2jy6u",
        "colab_type": "text"
      },
      "source": [
        "Slope of line"
      ]
    },
    {
      "cell_type": "code",
      "metadata": {
        "id": "-J-5v9z2hxtI",
        "colab_type": "code",
        "colab": {
          "base_uri": "https://localhost:8080/",
          "height": 34
        },
        "outputId": "6f3b277d-15b8-4453-a174-d6e2786bfcfc"
      },
      "source": [
        "#calculate numerator of slope of line\n",
        "_slope_num = (train_data.shape[0]*sum_xy)-(sum_x*sum_y)\n",
        "\n",
        "#calculate denominator of slope of line\n",
        "_slope_den = (train_data.shape[0]*sum_square_x)-(sum_x**2)\n",
        "\n",
        "#calculate slope\n",
        "_slope = _slope_num/_slope_den\n",
        "print(_slope)"
      ],
      "execution_count": 10,
      "outputs": [
        {
          "output_type": "stream",
          "text": [
            "2.0785075787019043\n"
          ],
          "name": "stdout"
        }
      ]
    },
    {
      "cell_type": "markdown",
      "metadata": {
        "id": "ubUKKibOhwoi",
        "colab_type": "text"
      },
      "source": [
        "Intercept of line"
      ]
    },
    {
      "cell_type": "code",
      "metadata": {
        "id": "PLh4qv0Rj6Ys",
        "colab_type": "code",
        "colab": {
          "base_uri": "https://localhost:8080/",
          "height": 34
        },
        "outputId": "df1ea6c3-4ef2-45ad-a8eb-a46d96004105"
      },
      "source": [
        "_intercept = mean_y - (_slope*mean_x)\n",
        "print(_intercept)"
      ],
      "execution_count": 11,
      "outputs": [
        {
          "output_type": "stream",
          "text": [
            "0.4687135639331501\n"
          ],
          "name": "stdout"
        }
      ]
    },
    {
      "cell_type": "markdown",
      "metadata": {
        "id": "Nb8brJ2AkR0l",
        "colab_type": "text"
      },
      "source": [
        "**predict y from x using best fit of line**"
      ]
    },
    {
      "cell_type": "code",
      "metadata": {
        "id": "EwlX2a1WkWjX",
        "colab_type": "code",
        "colab": {
          "base_uri": "https://localhost:8080/",
          "height": 34
        },
        "outputId": "d687619c-0585-4ce9-eb38-5df5691d6ad2"
      },
      "source": [
        "def predict(x):\n",
        "  _y_predict = x*_slope + _intercept\n",
        "  return _y_predict\n",
        "\n",
        "#call predict function\n",
        "print(predict(5))"
      ],
      "execution_count": 15,
      "outputs": [
        {
          "output_type": "stream",
          "text": [
            "10.861251457442672\n"
          ],
          "name": "stdout"
        }
      ]
    },
    {
      "cell_type": "markdown",
      "metadata": {
        "id": "3fogKNVI0FWf",
        "colab_type": "text"
      },
      "source": [
        "**Visualization**"
      ]
    },
    {
      "cell_type": "code",
      "metadata": {
        "id": "J9gSWDj30Iti",
        "colab_type": "code",
        "colab": {
          "base_uri": "https://localhost:8080/",
          "height": 312
        },
        "outputId": "4126ad12-322c-4159-d2ef-57887766cc69"
      },
      "source": [
        "import matplotlib.pyplot as plt\n",
        "\n",
        "x = np.linspace(-5, 5, 100)\n",
        "y = (_slope)*x + _intercept\n",
        "plt.title('Graph of best fit line')\n",
        "plt.plot(x, y, '-r')\n",
        "plt.xlabel('x', color='#1C2833')\n",
        "plt.ylabel('y', color='#1C2833')\n",
        "plt.legend(loc='upper left')\n",
        "plt.grid()\n",
        "plt.show()"
      ],
      "execution_count": 22,
      "outputs": [
        {
          "output_type": "stream",
          "text": [
            "No handles with labels found to put in legend.\n"
          ],
          "name": "stderr"
        },
        {
          "output_type": "display_data",
          "data": {
            "image/png": "[encoded data removed]",
            "text/plain": [
              "<Figure size 432x288 with 1 Axes>"
            ]
          },
          "metadata": {
            "tags": [],
            "needs_background": "light"
          }
        }
      ]
    }
  ]
}